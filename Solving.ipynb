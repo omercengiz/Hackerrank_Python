{
 "cells": [
  {
   "cell_type": "markdown",
   "metadata": {},
   "source": [
    "### Nested Lists\n",
    "\n",
    "Given the names and grades for each student in a class of Nstudents, store them in a nested list and print the name(s) of any student(s) having the second lowest grade.\n",
    "\n",
    "Note: If there are multiple students with the second lowest grade, order their names alphabetically and print each name on a new line.\n",
    "\n",
    "#### Input Format:\n",
    "\n",
    "The first line contains an integer, N, the number of students.\n",
    "The 2N subsequent lines describe each student over lines.\n",
    "- The first line contains a student’s name.\n",
    "- The second line contains their grade.\n",
    "\n",
    "\n",
    "#### Constraints:\n",
    "\n",
    "- 2≤N≤5\n",
    "- There will always be one or more students having the second lowest grade.\n",
    "\n",
    "#### Output Format\n",
    "\n",
    "Print the name(s) of any student(s) having the second lowest grade in. If there are multiple students, order their names alphabetically and print each one on a new line.\n",
    "\n",
    "#### Sample Input 0\n",
    "```\n",
    "5\n",
    "Harry\n",
    "37.21\n",
    "Berry\n",
    "37.21\n",
    "Tina\n",
    "37.2\n",
    "Akriti\n",
    "41\n",
    "Harsh\n",
    "39\n",
    "```\n",
    "\n",
    "#### Sample Output 0\n",
    "\n",
    "```\n",
    "Berry\n",
    "Harry\n",
    "```\n",
    "\n",
    "#### Explanation 0\n",
    "\n",
    "There are students in this class whose names and grades are assembled to build the following list:\n",
    "\n",
    "```python students = [['Harry', 37.21], ['Berry', 37.21], ['Tina', 37.2], ['Akriti', 41], ['Harsh', 39]]```\n",
    "\n",
    "The lowest grade of 37.21 belongs to Tina. The second lowest grade of 37.21 belongs to both Harry and Berry, so we order their names alphabetically and print each name on a new line."
   ]
  },
  {
   "cell_type": "markdown",
   "metadata": {},
   "source": [
    "### Nested Lists - Answer"
   ]
  },
  {
   "cell_type": "code",
   "execution_count": null,
   "metadata": {},
   "outputs": [],
   "source": [
    "if __name__ == '__main__':\n",
    "    students_grade = []\n",
    "    for i in range(int(input())):\n",
    "        name = input()\n",
    "        score = float(input())\n",
    "        students_grade.append([name, score])\n",
    "\n",
    "    second_lowest = sorted(list(set([grade for name, grade in students_grade])))[1]\n",
    "    print('\\n'.join(sorted([name for name, grade in students_grade if grade == second_lowest])))"
   ]
  }
 ],
 "metadata": {
  "kernelspec": {
   "display_name": "Python 3",
   "language": "python",
   "name": "python3"
  },
  "language_info": {
   "codemirror_mode": {
    "name": "ipython",
    "version": 3
   },
   "file_extension": ".py",
   "mimetype": "text/x-python",
   "name": "python",
   "nbconvert_exporter": "python",
   "pygments_lexer": "ipython3",
   "version": "3.12.0"
  }
 },
 "nbformat": 4,
 "nbformat_minor": 2
}
