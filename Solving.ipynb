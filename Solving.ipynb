{
  "cells": [
    {
      "cell_type": "markdown",
      "metadata": {
        "id": "NHXTgQGnrJzT"
      },
      "source": [
        "### Nested Lists\n",
        "\n",
        "Given the names and grades for each student in a class of Nstudents, store them in a nested list and print the name(s) of any student(s) having the second lowest grade.\n",
        "\n",
        "Note: If there are multiple students with the second lowest grade, order their names alphabetically and print each name on a new line.\n",
        "\n",
        "#### Input Format:\n",
        "\n",
        "The first line contains an integer, N, the number of students.\n",
        "The 2N subsequent lines describe each student over lines.\n",
        "- The first line contains a student’s name.\n",
        "- The second line contains their grade.\n",
        "\n",
        "\n",
        "#### Constraints:\n",
        "\n",
        "- 2≤N≤5\n",
        "- There will always be one or more students having the second lowest grade.\n",
        "\n",
        "#### Output Format\n",
        "\n",
        "Print the name(s) of any student(s) having the second lowest grade in. If there are multiple students, order their names alphabetically and print each one on a new line.\n",
        "\n",
        "#### Sample Input 0\n",
        "```\n",
        "5\n",
        "Harry\n",
        "37.21\n",
        "Berry\n",
        "37.21\n",
        "Tina\n",
        "37.2\n",
        "Akriti\n",
        "41\n",
        "Harsh\n",
        "39\n",
        "```\n",
        "\n",
        "#### Sample Output 0\n",
        "\n",
        "```\n",
        "Berry\n",
        "Harry\n",
        "```\n",
        "\n",
        "#### Explanation 0\n",
        "\n",
        "There are students in this class whose names and grades are assembled to build the following list:\n",
        "\n",
        "```python students = [['Harry', 37.21], ['Berry', 37.21], ['Tina', 37.2], ['Akriti', 41], ['Harsh', 39]]```\n",
        "\n",
        "The lowest grade of 37.21 belongs to Tina. The second lowest grade of 37.21 belongs to both Harry and Berry, so we order their names alphabetically and print each name on a new line."
      ]
    },
    {
      "cell_type": "markdown",
      "metadata": {
        "id": "Nj3RZnmkrJzW"
      },
      "source": [
        "### Nested Lists - Answer"
      ]
    },
    {
      "cell_type": "code",
      "execution_count": null,
      "metadata": {
        "id": "pImTATDcrJzX"
      },
      "outputs": [],
      "source": [
        "if __name__ == '__main__':\n",
        "    students_grade = []\n",
        "    for i in range(int(input())):\n",
        "        name = input()\n",
        "        score = float(input())\n",
        "        students_grade.append([name, score])\n",
        "\n",
        "    second_lowest = sorted(list(set([grade for name, grade in students_grade])))[1]\n",
        "    print('\\n'.join(sorted([name for name, grade in students_grade if grade == second_lowest])))"
      ]
    },
    {
      "cell_type": "code",
      "source": [],
      "metadata": {
        "id": "i6zXpEqFrj5x"
      },
      "execution_count": null,
      "outputs": []
    },
    {
      "cell_type": "markdown",
      "source": [
        "### **Finding the percentage**\n",
        "\n",
        "The provided code stub will read in a dictionary containing key/value pairs of name:[marks] for a list of students. Print the average of the marks array for the student name provided, showing 2 places after the decimal.\n",
        "\n",
        "####**Example**\n",
        "*marks key:value pairs are*\n",
        "\n",
        "'alpha':[20,30,40]\n",
        "'beta': [30, 50, 70]\n",
        "query_name: 'beta'\n",
        "\n",
        "The **query_name** is 'beta'. beta's average score is (30 + 50 + 70)/3 = 50.0.\n",
        "\n",
        "####**Input Format**\n",
        "The first line contains the integer *n*, the number of students' records. The next *n* lines contain the names and marks obtained by a student, each value separated by a space. The final line contains query_name, the name of a student to query.\n",
        "\n",
        "####**Constraints**\n",
        "\n",
        "*   2\n",
        "*   Liste öğesi\n",
        "\n",
        "####**Output format**\n",
        "\n",
        "Print one line: The average of the marks obtained by the particular student correct to 2 decimal places.\n",
        "\n",
        "####**Sample Input 0**\n",
        "\n",
        "```\n",
        "3\n",
        "Krishna 67 68 69\n",
        "Arjun 70 98 63\n",
        "Malika 52 56 60\n",
        "Malika\n",
        "```\n",
        "\n",
        "####**Sample Output 0**\n",
        "\n",
        "\n",
        "```\n",
        "56.00\n",
        "```\n",
        "\n",
        "####**Sample Input 0**\n",
        "\n",
        "```\n",
        "2\n",
        "Harsh 25 26.5 28\n",
        "Anurag 26 28 30\n",
        "Harsh\n",
        "```\n",
        "\n",
        "####**Sample Output 0**\n",
        "\n",
        "```\n",
        "26.50\n",
        "```\n"
      ],
      "metadata": {
        "id": "FSHUeH0WrWJV"
      }
    },
    {
      "cell_type": "code",
      "source": [
        "n = int(input())\n",
        "student_marks = {}\n",
        "for _ in range(n):\n",
        "  name, *line = input().split()\n",
        "  scores = list(map(float, line))\n",
        "  student_marks[name] = scores\n",
        "query_name = input()\n",
        "print(format(sum(student_marks[query_name])/len(student_marks[query_name]),'.2f'))"
      ],
      "metadata": {
        "id": "czFd032rrVQR"
      },
      "execution_count": null,
      "outputs": []
    }
  ],
  "metadata": {
    "kernelspec": {
      "display_name": "Python 3",
      "language": "python",
      "name": "python3"
    },
    "language_info": {
      "codemirror_mode": {
        "name": "ipython",
        "version": 3
      },
      "file_extension": ".py",
      "mimetype": "text/x-python",
      "name": "python",
      "nbconvert_exporter": "python",
      "pygments_lexer": "ipython3",
      "version": "3.12.0"
    },
    "colab": {
      "provenance": []
    }
  },
  "nbformat": 4,
  "nbformat_minor": 0
}